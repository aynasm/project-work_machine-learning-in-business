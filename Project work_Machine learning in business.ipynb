{
 "cells": [
  {
   "cell_type": "markdown",
   "metadata": {},
   "source": [
    "# Выбор локации для скважины"
   ]
  },
  {
   "cell_type": "markdown",
   "metadata": {},
   "source": [
    "Допустим, вы работаете в добывающей компании «ГлавРосГосНефть». Нужно решить, где бурить новую скважину.\n",
    "\n",
    "Вам предоставлены пробы нефти в трёх регионах: в каждом 10 000 месторождений, где измерили качество нефти и объём её запасов. Постройте модель машинного обучения, которая поможет определить регион, где добыча принесёт наибольшую прибыль. Проанализируйте возможную прибыль и риски техникой *Bootstrap.*\n",
    "\n",
    "Шаги для выбора локации:\n",
    "\n",
    "- В избранном регионе ищут месторождения, для каждого определяют значения признаков;\n",
    "- Строят модель и оценивают объём запасов;\n",
    "- Выбирают месторождения с самым высокими оценками значений. Количество месторождений зависит от бюджета компании и стоимости разработки одной скважины;\n",
    "- Прибыль равна суммарной прибыли отобранных месторождений."
   ]
  },
  {
   "cell_type": "markdown",
   "metadata": {},
   "source": [
    "### Инструкция по выполнению проекта\n",
    "1. Загрузите и подготовьте данные. Поясните порядок действий.\n",
    "2. Обучите и проверьте модель для каждого региона:\n",
    "    - Разбейте данные на обучающую и валидационную выборки в соотношении 75:25.\n",
    "    - Обучите модель и сделайте предсказания на валидационной выборке.\n",
    "    - Сохраните предсказания и правильные ответы на валидационной выборке.\n",
    "    - Напечатайте на экране средний запас предсказанного сырья и RMSE модели.\n",
    "    - Проанализируйте результаты.\n",
    "3. Подготовьтесь к расчёту прибыли:\n",
    "    - Все ключевые значения для расчётов сохраните в отдельных переменных.\n",
    "    - Рассчитайте достаточный объём сырья для безубыточной разработки новой скважины. Сравните полученный объём сырья со средним запасом в каждом регионе. \n",
    "    - Напишите выводы по этапу подготовки расчёта прибыли.\n",
    "4. Напишите функцию для расчёта прибыли по выбранным скважинам и предсказаниям модели:\n",
    "    - Выберите скважины с максимальными значениями предсказаний. \n",
    "    - Просуммируйте целевое значение объёма сырья, соответствующее этим предсказаниям.\n",
    "    - Рассчитайте прибыль для полученного объёма сырья.\n",
    "5. Посчитайте риски и прибыль для каждого региона:\n",
    "    - Примените технику Bootstrap с 1000 выборок, чтобы найти распределение прибыли.\n",
    "    - Найдите среднюю прибыль, 95%-й доверительный интервал и риск убытков. Убыток — это отрицательная прибыль.\n",
    "    - Напишите выводы: предложите регион для разработки скважин и обоснуйте выбор.\n",
    "\n",
    "### Описание данных\n",
    "Данные геологоразведки трёх регионов находятся в файлах: \n",
    "1. /datasets/geo_data_0.csv.\n",
    "2. /datasets/geo_data_1.csv.\n",
    "3. /datasets/geo_data_2.csv.\n",
    "\n",
    "1. id — уникальный идентификатор скважины;\n",
    "2. f0, f1, f2 — три признака точек (неважно, что они означают, но сами признаки значимы);\n",
    "3. product — объём запасов в скважине (тыс. баррелей).\n",
    "\n",
    "### Условия задачи:\n",
    "1. Для обучения модели подходит только линейная регрессия (остальные — недостаточно предсказуемые).\n",
    "2. При разведке региона исследуют 500 точек, из которых с помощью машинного обучения выбирают 200 лучших для разработки.\n",
    "3. Бюджет на разработку скважин в регионе — 10 млрд рублей.\n",
    "4. При нынешних ценах один баррель сырья приносит 450 рублей дохода. Доход с каждой единицы продукта составляет 450 тыс. рублей, поскольку объём указан в тысячах баррелей.\n",
    "5. После оценки рисков нужно оставить лишь те регионы, в которых вероятность убытков меньше 2.5%. Среди них выбирают регион с наибольшей средней прибылью.\n",
    "6. Данные синтетические: детали контрактов и характеристики месторождений не разглашаются."
   ]
  },
  {
   "cell_type": "markdown",
   "metadata": {},
   "source": [
    "## Загрузка и подготовка данных"
   ]
  },
  {
   "cell_type": "code",
   "execution_count": 1,
   "metadata": {},
   "outputs": [],
   "source": [
    "import pandas as pd\n",
    "import numpy as np\n",
    "from sklearn.model_selection import train_test_split\n",
    "from sklearn.linear_model import LinearRegression\n",
    "from sklearn.metrics import mean_squared_error\n",
    "from numpy.random import RandomState\n",
    "from sklearn.preprocessing import StandardScaler"
   ]
  },
  {
   "cell_type": "code",
   "execution_count": 2,
   "metadata": {},
   "outputs": [],
   "source": [
    "#Считываем данные из csv-файла в датафрейм\n",
    "try:\n",
    "    data_0 = pd.read_csv('/datasets/geo_data_0.csv')\n",
    "except:\n",
    "    data_0 = pd.read_csv('https://code.s3.yandex.net/datasets/geo_data_0.csv')\n",
    "    \n",
    "try:\n",
    "    data_1 = pd.read_csv('/datasets/geo_data_1.csv')\n",
    "except:\n",
    "    data_1 = pd.read_csv('https://code.s3.yandex.net/datasets/geo_data_1.csv')\n",
    "    \n",
    "try:\n",
    "    data_2 = pd.read_csv('/datasets/geo_data_2.csv')\n",
    "except:\n",
    "    data_2 = pd.read_csv('https://code.s3.yandex.net/datasets/geo_data_2.csv')"
   ]
  },
  {
   "cell_type": "code",
   "execution_count": 3,
   "metadata": {},
   "outputs": [
    {
     "name": "stdout",
     "output_type": "stream",
     "text": [
      "------------- Первые 5 строк ------------\n"
     ]
    },
    {
     "data": {
      "text/html": [
       "<div>\n",
       "<style scoped>\n",
       "    .dataframe tbody tr th:only-of-type {\n",
       "        vertical-align: middle;\n",
       "    }\n",
       "\n",
       "    .dataframe tbody tr th {\n",
       "        vertical-align: top;\n",
       "    }\n",
       "\n",
       "    .dataframe thead th {\n",
       "        text-align: right;\n",
       "    }\n",
       "</style>\n",
       "<table border=\"1\" class=\"dataframe\">\n",
       "  <thead>\n",
       "    <tr style=\"text-align: right;\">\n",
       "      <th></th>\n",
       "      <th>id</th>\n",
       "      <th>f0</th>\n",
       "      <th>f1</th>\n",
       "      <th>f2</th>\n",
       "      <th>product</th>\n",
       "    </tr>\n",
       "  </thead>\n",
       "  <tbody>\n",
       "    <tr>\n",
       "      <th>0</th>\n",
       "      <td>txEyH</td>\n",
       "      <td>0.705745</td>\n",
       "      <td>-0.497823</td>\n",
       "      <td>1.221170</td>\n",
       "      <td>105.280062</td>\n",
       "    </tr>\n",
       "    <tr>\n",
       "      <th>1</th>\n",
       "      <td>2acmU</td>\n",
       "      <td>1.334711</td>\n",
       "      <td>-0.340164</td>\n",
       "      <td>4.365080</td>\n",
       "      <td>73.037750</td>\n",
       "    </tr>\n",
       "    <tr>\n",
       "      <th>2</th>\n",
       "      <td>409Wp</td>\n",
       "      <td>1.022732</td>\n",
       "      <td>0.151990</td>\n",
       "      <td>1.419926</td>\n",
       "      <td>85.265647</td>\n",
       "    </tr>\n",
       "    <tr>\n",
       "      <th>3</th>\n",
       "      <td>iJLyR</td>\n",
       "      <td>-0.032172</td>\n",
       "      <td>0.139033</td>\n",
       "      <td>2.978566</td>\n",
       "      <td>168.620776</td>\n",
       "    </tr>\n",
       "    <tr>\n",
       "      <th>4</th>\n",
       "      <td>Xdl7t</td>\n",
       "      <td>1.988431</td>\n",
       "      <td>0.155413</td>\n",
       "      <td>4.751769</td>\n",
       "      <td>154.036647</td>\n",
       "    </tr>\n",
       "  </tbody>\n",
       "</table>\n",
       "</div>"
      ],
      "text/plain": [
       "      id        f0        f1        f2     product\n",
       "0  txEyH  0.705745 -0.497823  1.221170  105.280062\n",
       "1  2acmU  1.334711 -0.340164  4.365080   73.037750\n",
       "2  409Wp  1.022732  0.151990  1.419926   85.265647\n",
       "3  iJLyR -0.032172  0.139033  2.978566  168.620776\n",
       "4  Xdl7t  1.988431  0.155413  4.751769  154.036647"
      ]
     },
     "metadata": {},
     "output_type": "display_data"
    },
    {
     "name": "stdout",
     "output_type": "stream",
     "text": [
      "\n",
      "\n",
      "------------- Типы данных ------------\n",
      "<class 'pandas.core.frame.DataFrame'>\n",
      "RangeIndex: 100000 entries, 0 to 99999\n",
      "Data columns (total 5 columns):\n",
      " #   Column   Non-Null Count   Dtype  \n",
      "---  ------   --------------   -----  \n",
      " 0   id       100000 non-null  object \n",
      " 1   f0       100000 non-null  float64\n",
      " 2   f1       100000 non-null  float64\n",
      " 3   f2       100000 non-null  float64\n",
      " 4   product  100000 non-null  float64\n",
      "dtypes: float64(4), object(1)\n",
      "memory usage: 3.8+ MB\n",
      "None\n",
      "\n",
      "\n",
      "------------- Пропуски ------------\n",
      "id Пропусков НЕТ\n",
      "f0 Пропусков НЕТ\n",
      "f1 Пропусков НЕТ\n",
      "f2 Пропусков НЕТ\n",
      "product Пропусков НЕТ\n",
      "\n",
      "\n",
      "------------- Дубликаты ------------\n",
      "Дубликатов НЕТ\n"
     ]
    }
   ],
   "source": [
    "#Функция получения первичной информации о датафрейме\n",
    "def studying_the_data (data):\n",
    "    print ('------------- Первые 5 строк ------------')\n",
    "    display(data.head())\n",
    "    print('')\n",
    "    print('')\n",
    "    print ('------------- Типы данных ------------')\n",
    "    print (data.info())\n",
    "    print('')\n",
    "    print('')\n",
    "    print ('------------- Пропуски ------------')\n",
    "    count = 0\n",
    "    for element in data.columns:\n",
    "        if data[element].isna().sum() > 0: \n",
    "            print(element, ' - ', data[element].isna().sum(), 'пропусков')\n",
    "            count = +1\n",
    "        if count == 0:\n",
    "            print(element, 'Пропусков НЕТ')\n",
    "    print('')\n",
    "    print('')\n",
    "    print ('------------- Дубликаты ------------')\n",
    "    if data.duplicated().sum() > 0:\n",
    "        print('Дубликатов: ', data.duplicated().sum())\n",
    "    else:\n",
    "        print('Дубликатов НЕТ')\n",
    "\n",
    "#Проверим 1й регион        \n",
    "studying_the_data (data_0)"
   ]
  },
  {
   "cell_type": "code",
   "execution_count": 4,
   "metadata": {},
   "outputs": [
    {
     "name": "stdout",
     "output_type": "stream",
     "text": [
      "------------- Первые 5 строк ------------\n"
     ]
    },
    {
     "data": {
      "text/html": [
       "<div>\n",
       "<style scoped>\n",
       "    .dataframe tbody tr th:only-of-type {\n",
       "        vertical-align: middle;\n",
       "    }\n",
       "\n",
       "    .dataframe tbody tr th {\n",
       "        vertical-align: top;\n",
       "    }\n",
       "\n",
       "    .dataframe thead th {\n",
       "        text-align: right;\n",
       "    }\n",
       "</style>\n",
       "<table border=\"1\" class=\"dataframe\">\n",
       "  <thead>\n",
       "    <tr style=\"text-align: right;\">\n",
       "      <th></th>\n",
       "      <th>id</th>\n",
       "      <th>f0</th>\n",
       "      <th>f1</th>\n",
       "      <th>f2</th>\n",
       "      <th>product</th>\n",
       "    </tr>\n",
       "  </thead>\n",
       "  <tbody>\n",
       "    <tr>\n",
       "      <th>0</th>\n",
       "      <td>kBEdx</td>\n",
       "      <td>-15.001348</td>\n",
       "      <td>-8.276000</td>\n",
       "      <td>-0.005876</td>\n",
       "      <td>3.179103</td>\n",
       "    </tr>\n",
       "    <tr>\n",
       "      <th>1</th>\n",
       "      <td>62mP7</td>\n",
       "      <td>14.272088</td>\n",
       "      <td>-3.475083</td>\n",
       "      <td>0.999183</td>\n",
       "      <td>26.953261</td>\n",
       "    </tr>\n",
       "    <tr>\n",
       "      <th>2</th>\n",
       "      <td>vyE1P</td>\n",
       "      <td>6.263187</td>\n",
       "      <td>-5.948386</td>\n",
       "      <td>5.001160</td>\n",
       "      <td>134.766305</td>\n",
       "    </tr>\n",
       "    <tr>\n",
       "      <th>3</th>\n",
       "      <td>KcrkZ</td>\n",
       "      <td>-13.081196</td>\n",
       "      <td>-11.506057</td>\n",
       "      <td>4.999415</td>\n",
       "      <td>137.945408</td>\n",
       "    </tr>\n",
       "    <tr>\n",
       "      <th>4</th>\n",
       "      <td>AHL4O</td>\n",
       "      <td>12.702195</td>\n",
       "      <td>-8.147433</td>\n",
       "      <td>5.004363</td>\n",
       "      <td>134.766305</td>\n",
       "    </tr>\n",
       "  </tbody>\n",
       "</table>\n",
       "</div>"
      ],
      "text/plain": [
       "      id         f0         f1        f2     product\n",
       "0  kBEdx -15.001348  -8.276000 -0.005876    3.179103\n",
       "1  62mP7  14.272088  -3.475083  0.999183   26.953261\n",
       "2  vyE1P   6.263187  -5.948386  5.001160  134.766305\n",
       "3  KcrkZ -13.081196 -11.506057  4.999415  137.945408\n",
       "4  AHL4O  12.702195  -8.147433  5.004363  134.766305"
      ]
     },
     "metadata": {},
     "output_type": "display_data"
    },
    {
     "name": "stdout",
     "output_type": "stream",
     "text": [
      "\n",
      "\n",
      "------------- Типы данных ------------\n",
      "<class 'pandas.core.frame.DataFrame'>\n",
      "RangeIndex: 100000 entries, 0 to 99999\n",
      "Data columns (total 5 columns):\n",
      " #   Column   Non-Null Count   Dtype  \n",
      "---  ------   --------------   -----  \n",
      " 0   id       100000 non-null  object \n",
      " 1   f0       100000 non-null  float64\n",
      " 2   f1       100000 non-null  float64\n",
      " 3   f2       100000 non-null  float64\n",
      " 4   product  100000 non-null  float64\n",
      "dtypes: float64(4), object(1)\n",
      "memory usage: 3.8+ MB\n",
      "None\n",
      "\n",
      "\n",
      "------------- Пропуски ------------\n",
      "id Пропусков НЕТ\n",
      "f0 Пропусков НЕТ\n",
      "f1 Пропусков НЕТ\n",
      "f2 Пропусков НЕТ\n",
      "product Пропусков НЕТ\n",
      "\n",
      "\n",
      "------------- Дубликаты ------------\n",
      "Дубликатов НЕТ\n"
     ]
    }
   ],
   "source": [
    "#Проверим 2й регион\n",
    "studying_the_data (data_1)"
   ]
  },
  {
   "cell_type": "code",
   "execution_count": 5,
   "metadata": {},
   "outputs": [
    {
     "name": "stdout",
     "output_type": "stream",
     "text": [
      "------------- Первые 5 строк ------------\n"
     ]
    },
    {
     "data": {
      "text/html": [
       "<div>\n",
       "<style scoped>\n",
       "    .dataframe tbody tr th:only-of-type {\n",
       "        vertical-align: middle;\n",
       "    }\n",
       "\n",
       "    .dataframe tbody tr th {\n",
       "        vertical-align: top;\n",
       "    }\n",
       "\n",
       "    .dataframe thead th {\n",
       "        text-align: right;\n",
       "    }\n",
       "</style>\n",
       "<table border=\"1\" class=\"dataframe\">\n",
       "  <thead>\n",
       "    <tr style=\"text-align: right;\">\n",
       "      <th></th>\n",
       "      <th>id</th>\n",
       "      <th>f0</th>\n",
       "      <th>f1</th>\n",
       "      <th>f2</th>\n",
       "      <th>product</th>\n",
       "    </tr>\n",
       "  </thead>\n",
       "  <tbody>\n",
       "    <tr>\n",
       "      <th>0</th>\n",
       "      <td>fwXo0</td>\n",
       "      <td>-1.146987</td>\n",
       "      <td>0.963328</td>\n",
       "      <td>-0.828965</td>\n",
       "      <td>27.758673</td>\n",
       "    </tr>\n",
       "    <tr>\n",
       "      <th>1</th>\n",
       "      <td>WJtFt</td>\n",
       "      <td>0.262778</td>\n",
       "      <td>0.269839</td>\n",
       "      <td>-2.530187</td>\n",
       "      <td>56.069697</td>\n",
       "    </tr>\n",
       "    <tr>\n",
       "      <th>2</th>\n",
       "      <td>ovLUW</td>\n",
       "      <td>0.194587</td>\n",
       "      <td>0.289035</td>\n",
       "      <td>-5.586433</td>\n",
       "      <td>62.871910</td>\n",
       "    </tr>\n",
       "    <tr>\n",
       "      <th>3</th>\n",
       "      <td>q6cA6</td>\n",
       "      <td>2.236060</td>\n",
       "      <td>-0.553760</td>\n",
       "      <td>0.930038</td>\n",
       "      <td>114.572842</td>\n",
       "    </tr>\n",
       "    <tr>\n",
       "      <th>4</th>\n",
       "      <td>WPMUX</td>\n",
       "      <td>-0.515993</td>\n",
       "      <td>1.716266</td>\n",
       "      <td>5.899011</td>\n",
       "      <td>149.600746</td>\n",
       "    </tr>\n",
       "  </tbody>\n",
       "</table>\n",
       "</div>"
      ],
      "text/plain": [
       "      id        f0        f1        f2     product\n",
       "0  fwXo0 -1.146987  0.963328 -0.828965   27.758673\n",
       "1  WJtFt  0.262778  0.269839 -2.530187   56.069697\n",
       "2  ovLUW  0.194587  0.289035 -5.586433   62.871910\n",
       "3  q6cA6  2.236060 -0.553760  0.930038  114.572842\n",
       "4  WPMUX -0.515993  1.716266  5.899011  149.600746"
      ]
     },
     "metadata": {},
     "output_type": "display_data"
    },
    {
     "name": "stdout",
     "output_type": "stream",
     "text": [
      "\n",
      "\n",
      "------------- Типы данных ------------\n",
      "<class 'pandas.core.frame.DataFrame'>\n",
      "RangeIndex: 100000 entries, 0 to 99999\n",
      "Data columns (total 5 columns):\n",
      " #   Column   Non-Null Count   Dtype  \n",
      "---  ------   --------------   -----  \n",
      " 0   id       100000 non-null  object \n",
      " 1   f0       100000 non-null  float64\n",
      " 2   f1       100000 non-null  float64\n",
      " 3   f2       100000 non-null  float64\n",
      " 4   product  100000 non-null  float64\n",
      "dtypes: float64(4), object(1)\n",
      "memory usage: 3.8+ MB\n",
      "None\n",
      "\n",
      "\n",
      "------------- Пропуски ------------\n",
      "id Пропусков НЕТ\n",
      "f0 Пропусков НЕТ\n",
      "f1 Пропусков НЕТ\n",
      "f2 Пропусков НЕТ\n",
      "product Пропусков НЕТ\n",
      "\n",
      "\n",
      "------------- Дубликаты ------------\n",
      "Дубликатов НЕТ\n"
     ]
    }
   ],
   "source": [
    "#Проверим 3й регион\n",
    "studying_the_data (data_2)"
   ]
  },
  {
   "cell_type": "code",
   "execution_count": 6,
   "metadata": {},
   "outputs": [],
   "source": [
    "#Удалим столбцы с id\n",
    "data_0 = data_0.drop(columns=['id'])\n",
    "data_1 = data_1.drop(columns=['id'])\n",
    "data_2 = data_2.drop(columns=['id'])"
   ]
  },
  {
   "cell_type": "markdown",
   "metadata": {},
   "source": [
    "### Вывод\n",
    "Данные подготовили."
   ]
  },
  {
   "cell_type": "markdown",
   "metadata": {},
   "source": [
    "## Обучение и проверка модели"
   ]
  },
  {
   "cell_type": "code",
   "execution_count": 7,
   "metadata": {},
   "outputs": [
    {
     "name": "stdout",
     "output_type": "stream",
     "text": [
      "(75000, 3)\n",
      "75000\n",
      "(25000, 3)\n",
      "25000\n",
      "             f0        f1        f2\n",
      "27212 -0.544828  1.390264 -0.094959\n",
      "7866   1.455912 -0.480422  1.209567\n",
      "62041  0.260460  0.825069 -0.204865\n",
      "70185 -1.837105  0.010321 -0.147634\n",
      "82230 -1.299243  0.987558  1.273181\n"
     ]
    }
   ],
   "source": [
    "import warnings\n",
    "warnings.filterwarnings('ignore')\n",
    "\n",
    "#Для этого сначала выделим целевой признак и оставшиеся признаки и сохраним их в переменные\n",
    "target_0 = data_0['product']\n",
    "features_0 = data_0.drop('product', axis=1)\n",
    "\n",
    "#Разделим данные на обучающую и валидационную выборки\n",
    "features_0_train, features_0_valid, target_0_train, target_0_valid = train_test_split(\n",
    "    features_0, target_0, test_size=0.25, random_state=12345) # отделим 25% данных для валидационной выборки\n",
    "\n",
    "numeric_0 = ['f0', 'f1', 'f2']\n",
    "\n",
    "scaler = StandardScaler()\n",
    "scaler.fit(features_0_train[numeric_0])\n",
    "features_0_train[numeric_0] = scaler.transform(features_0_train[numeric_0])\n",
    "features_0_valid[numeric_0] = scaler.transform(features_0_valid[numeric_0]) \n",
    "\n",
    "print(features_0_train.shape)\n",
    "print(target_0_train.shape[0])\n",
    "print(features_0_valid.shape)\n",
    "print(target_0_valid.shape[0])\n",
    "\n",
    "#Чтобы предупреждение не появлялось\n",
    "pd.options.mode.chained_assignment = None\n",
    "\n",
    "print(features_0_train.head())"
   ]
  },
  {
   "cell_type": "code",
   "execution_count": 8,
   "metadata": {},
   "outputs": [
    {
     "name": "stdout",
     "output_type": "stream",
     "text": [
      "(75000, 3)\n",
      "75000\n",
      "(25000, 3)\n",
      "25000\n",
      "             f0        f1        f2\n",
      "27212 -0.544828  1.390264 -0.094959\n",
      "7866   1.455912 -0.480422  1.209567\n",
      "62041  0.260460  0.825069 -0.204865\n",
      "70185 -1.837105  0.010321 -0.147634\n",
      "82230 -1.299243  0.987558  1.273181\n"
     ]
    }
   ],
   "source": [
    "#Для этого сначала выделим целевой признак и оставшиеся признаки и сохраним их в переменные\n",
    "target_1 = data_1['product']\n",
    "features_1 = data_1.drop('product', axis=1)\n",
    "\n",
    "#Разделим данные на обучающую и валидационную выборки\n",
    "features_1_train, features_1_valid, target_1_train, target_1_valid = train_test_split(\n",
    "    features_1, target_1, test_size=0.25, random_state=12345) # отделим 25% данных для валидационной выборки\n",
    "\n",
    "numeric_1 = ['f0', 'f1', 'f2']\n",
    "\n",
    "scaler = StandardScaler()\n",
    "scaler.fit(features_1_train[numeric_1])\n",
    "features_1_train[numeric_1] = scaler.transform(features_1_train[numeric_1])\n",
    "features_1_valid[numeric_1] = scaler.transform(features_1_valid[numeric_1]) \n",
    "\n",
    "print(features_1_train.shape)\n",
    "print(target_1_train.shape[0])\n",
    "print(features_1_valid.shape)\n",
    "print(target_1_valid.shape[0])\n",
    "\n",
    "#Чтобы предупреждение не появлялось\n",
    "pd.options.mode.chained_assignment = None\n",
    "\n",
    "print(features_0_train.head())"
   ]
  },
  {
   "cell_type": "code",
   "execution_count": 9,
   "metadata": {},
   "outputs": [
    {
     "name": "stdout",
     "output_type": "stream",
     "text": [
      "(75000, 3)\n",
      "75000\n",
      "(25000, 3)\n",
      "25000\n",
      "             f0        f1        f2\n",
      "27212 -0.544828  1.390264 -0.094959\n",
      "7866   1.455912 -0.480422  1.209567\n",
      "62041  0.260460  0.825069 -0.204865\n",
      "70185 -1.837105  0.010321 -0.147634\n",
      "82230 -1.299243  0.987558  1.273181\n"
     ]
    }
   ],
   "source": [
    "#Для этого сначала выделим целевой признак и оставшиеся признаки и сохраним их в переменные\n",
    "target_2 = data_2['product']\n",
    "features_2 = data_2.drop('product', axis=1)\n",
    "\n",
    "#Разделим данные на обучающую и валидационную выборки\n",
    "features_2_train, features_2_valid, target_2_train, target_2_valid = train_test_split(\n",
    "    features_2, target_2, test_size=0.25, random_state=12345) # отделим 25% данных для валидационной выборки\n",
    "\n",
    "numeric_2 = ['f0', 'f1', 'f2']\n",
    "\n",
    "scaler = StandardScaler()\n",
    "scaler.fit(features_2_train[numeric_2])\n",
    "features_2_train[numeric_2] = scaler.transform(features_2_train[numeric_2])\n",
    "features_2_valid[numeric_2] = scaler.transform(features_2_valid[numeric_2]) \n",
    "\n",
    "print(features_2_train.shape)\n",
    "print(target_2_train.shape[0])\n",
    "print(features_2_valid.shape)\n",
    "print(target_2_valid.shape[0])\n",
    "\n",
    "#Чтобы предупреждение не появлялось\n",
    "pd.options.mode.chained_assignment = None\n",
    "\n",
    "print(features_0_train.head())"
   ]
  },
  {
   "cell_type": "code",
   "execution_count": 10,
   "metadata": {},
   "outputs": [
    {
     "name": "stdout",
     "output_type": "stream",
     "text": [
      "RMSE модели линейной регрессии на валидационной выборке: 37.5794217150813\n",
      "Средний запас предсказанного сырья: 92.59256778438035\n"
     ]
    }
   ],
   "source": [
    "#Обучим модель и сделаем предсказания на валидационной выборке\n",
    "model = LinearRegression() # инициализируйте модель LinearRegression\n",
    "model.fit(features_0_train, target_0_train) # обучите модель на тренировочной выборке\n",
    "predictions_0_valid = model.predict(features_0_valid) # получите предсказания модели на валидационной выборке\n",
    "\n",
    "rmse_0 = mean_squared_error(target_0_valid, predictions_0_valid) ** 0.5 # посчитаем значение метрики RMSE на валидационной выборке\n",
    "print(\"RMSE модели линейной регрессии на валидационной выборке:\", rmse_0)\n",
    "\n",
    "mean_0 = predictions_0_valid.mean()\n",
    "print(\"Средний запас предсказанного сырья:\", mean_0)"
   ]
  },
  {
   "cell_type": "code",
   "execution_count": 11,
   "metadata": {},
   "outputs": [
    {
     "name": "stdout",
     "output_type": "stream",
     "text": [
      "RMSE модели линейной регрессии на валидационной выборке: 0.893099286775617\n",
      "Средний запас предсказанного сырья: 68.728546895446\n"
     ]
    }
   ],
   "source": [
    "#Обучим модель и сделаем предсказания на валидационной выборке\n",
    "model = LinearRegression() # инициализируйте модель LinearRegression\n",
    "model.fit(features_1_train, target_1_train) # обучите модель на тренировочной выборке\n",
    "predictions_1_valid = model.predict(features_1_valid) # получите предсказания модели на валидационной выборке\n",
    "\n",
    "rmse_1 = mean_squared_error(target_1_valid, predictions_1_valid) ** 0.5 # посчитаем значение метрики RMSE на валидационной выборке\n",
    "print(\"RMSE модели линейной регрессии на валидационной выборке:\", rmse_1)\n",
    "\n",
    "mean_1 = predictions_1_valid.mean()\n",
    "print(\"Средний запас предсказанного сырья:\", mean_1)"
   ]
  },
  {
   "cell_type": "code",
   "execution_count": 12,
   "metadata": {
    "scrolled": true
   },
   "outputs": [
    {
     "name": "stdout",
     "output_type": "stream",
     "text": [
      "RMSE модели линейной регрессии на валидационной выборке: 40.02970873393434\n",
      "Средний запас предсказанного сырья: 94.96504596800489\n"
     ]
    }
   ],
   "source": [
    "#Обучим модель и сделаем предсказания на валидационной выборке\n",
    "model = LinearRegression() # инициализируйте модель LinearRegression\n",
    "model.fit(features_2_train, target_2_train) # обучите модель на тренировочной выборке\n",
    "predictions_2_valid = model.predict(features_2_valid) # получите предсказания модели на валидационной выборке\n",
    "\n",
    "rmse_2 = mean_squared_error(target_2_valid, predictions_2_valid) ** 0.5 # посчитаем значение метрики RMSE на валидационной выборке\n",
    "print(\"RMSE модели линейной регрессии на валидационной выборке:\", rmse_2)\n",
    "\n",
    "mean_2 = predictions_2_valid.mean()\n",
    "print(\"Средний запас предсказанного сырья:\", mean_2)"
   ]
  },
  {
   "cell_type": "markdown",
   "metadata": {},
   "source": [
    "### Вывод\n",
    "Первый регион:\n",
    "RMSE модели линейной регрессии на валидационной выборке: 37.5794217150813\n",
    "Средний запас предсказанного сырья: 92.59256778438035\n",
    "\n",
    "Второй регион: \n",
    "RMSE модели линейной регрессии на валидационной выборке: 0.893099286775617\n",
    "Средний запас предсказанного сырья: 68.728546895446\n",
    "\n",
    "Третий регион:\n",
    "RMSE модели линейной регрессии на валидационной выборке: 40.02970873393434\n",
    "Средний запас предсказанного сырья: 94.96504596800489\n",
    "\n",
    "Средний запас предсказанного сырья у третьего региона. RMSE (корень из средней квадратичной ошибки) меньше всего у второго региона, это означает, что модель лучше соответствует данным."
   ]
  },
  {
   "cell_type": "markdown",
   "metadata": {},
   "source": [
    "## Подготовка к расчёту прибыли"
   ]
  },
  {
   "cell_type": "code",
   "execution_count": 13,
   "metadata": {},
   "outputs": [
    {
     "name": "stdout",
     "output_type": "stream",
     "text": [
      "Достаточный объём сырья для безубыточной разработки новой скважины, тыс. бар.: 111.11111111111111\n"
     ]
    }
   ],
   "source": [
    "#При разведке региона исследуют 500 точек, из которых с помощью машинного обучения выбирают 200 лучших для разработки.\n",
    "#Бюджет на разработку скважин в регионе — 10 млрд рублей.\n",
    "count_500 = 500\n",
    "count_200 = 200\n",
    "budget = 10000000000 # общий бюджет\n",
    "budget_well = budget / count_200 # бюджет на скважину\n",
    "\n",
    "#При нынешних ценах один баррель сырья приносит 450 рублей дохода. \n",
    "#Доход с каждой единицы продукта составляет 450 тыс. рублей, поскольку объём указан в тысячах баррелей.\n",
    "income = 450000\n",
    "volume = budget_well / income # достаточный объём сырья для безубыточной разработки новой скважины.\n",
    "print('Достаточный объём сырья для безубыточной разработки новой скважины, тыс. бар.:', volume)\n",
    "\n",
    "#После оценки рисков нужно оставить лишь те регионы, в которых вероятность убытков меньше 2.5%. \n",
    "#Среди них выбирают регион с наибольшей средней прибылью.\n",
    "\n",
    "#Напишем функцию для расчёта прибыли по выбранным скважинам и предсказаниям модели:\n",
    "#Выберем скважины с максимальными значениями предсказаний. \n",
    "#Просуммируем целевое значение объёма сырья, соответствующее этим предсказаниям.\n",
    "#Рассчитаем прибыль для полученного объёма сырья.\n",
    "\n",
    "def profit_well(target, probabilities, count):\n",
    "    probs_sorted = probabilities.sort_values(ascending=False)\n",
    "    selected = target[probs_sorted.index][:count]\n",
    "    return income * selected.sum() - budget"
   ]
  },
  {
   "cell_type": "markdown",
   "metadata": {},
   "source": [
    "### Вывод\n",
    "Во всех трех регионах запас меньше, чем достаточный объём сырья для безубыточной разработки новой скважины в 111 тыс. бар.\n",
    "\n",
    "Первая скважина на 18 тыс.бар. Вторая скважина на 42 тыс. бар. Третья скважина на 16 тыс. бар."
   ]
  },
  {
   "cell_type": "markdown",
   "metadata": {},
   "source": [
    "## Расчёт прибыли и рисков "
   ]
  },
  {
   "cell_type": "code",
   "execution_count": 14,
   "metadata": {},
   "outputs": [
    {
     "name": "stdout",
     "output_type": "stream",
     "text": [
      "Средняя выручка, руб: 425938526\n",
      "95%-й доверительный интервал, руб: -102090094 947976353\n",
      "Риск убытков, %: 6.0\n"
     ]
    }
   ],
   "source": [
    "state = RandomState(12345)\n",
    "\n",
    "predictions_0_valid = pd.Series(predictions_0_valid)\n",
    "target_0_valid.reset_index(drop=True, inplace=True)\n",
    "values = []\n",
    "\n",
    "for i in range(1000):\n",
    "    \n",
    "    target_0_subsample = target_0_valid.sample(n=count_500, replace=True, random_state=state)\n",
    "    probs_0_subsample = predictions_0_valid[target_0_subsample.index]\n",
    "    values.append(profit_well(target_0_subsample, probs_0_subsample, count_200))\n",
    "\n",
    "values = pd.Series(values)\n",
    "lower = int(values.quantile(0.025))\n",
    "upper = int(values.quantile(0.975))\n",
    "risk = (values < 0).mean() * 100\n",
    "mean = int(values.mean())\n",
    "\n",
    "print(\"Средняя выручка, руб:\", mean)\n",
    "print(\"95%-й доверительный интервал, руб:\", lower, upper)\n",
    "print(\"Риск убытков, %:\", risk)"
   ]
  },
  {
   "cell_type": "code",
   "execution_count": 15,
   "metadata": {},
   "outputs": [
    {
     "name": "stdout",
     "output_type": "stream",
     "text": [
      "Средняя выручка, руб: 515222773\n",
      "95%-й доверительный интервал, руб: 68873225 931547591\n",
      "Риск убытков, %: 1.0\n"
     ]
    }
   ],
   "source": [
    "state = RandomState(12345)\n",
    "\n",
    "predictions_1_valid = pd.Series(predictions_1_valid)\n",
    "target_1_valid.reset_index(drop=True, inplace=True)\n",
    "values = []\n",
    "\n",
    "for i in range(1000):\n",
    "    \n",
    "    target_1_subsample = target_1_valid.sample(n=count_500, replace=True, random_state=state)\n",
    "    probs_1_subsample = predictions_1_valid[target_1_subsample.index]\n",
    "    values.append(profit_well(target_1_subsample, probs_1_subsample, count_200))\n",
    "\n",
    "values = pd.Series(values)\n",
    "lower = int(values.quantile(0.025))\n",
    "upper = int(values.quantile(0.975))\n",
    "risk = (values < 0).mean() * 100\n",
    "mean = int(values.mean())\n",
    "\n",
    "print(\"Средняя выручка, руб:\", mean)\n",
    "print(\"95%-й доверительный интервал, руб:\", lower, upper)\n",
    "print(\"Риск убытков, %:\", risk)"
   ]
  },
  {
   "cell_type": "code",
   "execution_count": 16,
   "metadata": {},
   "outputs": [
    {
     "name": "stdout",
     "output_type": "stream",
     "text": [
      "Средняя выручка, руб: 435008362\n",
      "95%-й доверительный интервал, руб: -128880547 969706954\n",
      "Риск убытков, %: 6.4\n"
     ]
    }
   ],
   "source": [
    "state = RandomState(12345)\n",
    "\n",
    "predictions_2_valid = pd.Series(predictions_2_valid)\n",
    "target_2_valid.reset_index(drop=True, inplace=True)\n",
    "values = []\n",
    "\n",
    "for i in range(1000):\n",
    "    \n",
    "    target_2_subsample = target_2_valid.sample(n=count_500, replace=True, random_state=state)\n",
    "    probs_2_subsample = predictions_2_valid[target_2_subsample.index]\n",
    "    values.append(profit_well(target_2_subsample, probs_2_subsample, count_200))\n",
    "\n",
    "values = pd.Series(values)\n",
    "lower = int(values.quantile(0.025))\n",
    "upper = int(values.quantile(0.975))\n",
    "risk = (values < 0).mean() * 100\n",
    "mean = int(values.mean())\n",
    "\n",
    "print(\"Средняя выручка, руб:\", mean)\n",
    "print(\"95%-й доверительный интервал, руб:\", lower, upper)\n",
    "print(\"Риск убытков, %:\", risk)"
   ]
  },
  {
   "cell_type": "markdown",
   "metadata": {},
   "source": [
    "### Вывод\n",
    "Первая скважина:\n",
    "Средняя выручка, руб: 425938526\n",
    "95%-й доверительный интервал, руб: -102090094 947976353\n",
    "Риск убытков, %: 6.0\n",
    "\n",
    "Вторая скважина:\n",
    "Средняя выручка, руб: 515222773\n",
    "95%-й доверительный интервал, руб: 68873225 931547591\n",
    "Риск убытков, %: 1.0\n",
    "\n",
    "Третья скважина:\n",
    "Средняя выручка, руб: 435008362\n",
    "95%-й доверительный интервал, руб: -128880547 969706954\n",
    "Риск убытков, %: 6.4\n",
    "\n",
    "После оценки рисков вероятность убытков меньше 2.5% только у второго региона со значением 1,0%.\n",
    "\n",
    "Следовательно предложить можно только второй регион со средней выручкой 515 222 773 руб."
   ]
  },
  {
   "cell_type": "markdown",
   "metadata": {},
   "source": [
    "## Чек-лист готовности проекта"
   ]
  },
  {
   "cell_type": "markdown",
   "metadata": {},
   "source": [
    "Поставьте 'x' в выполненных пунктах. Далее нажмите Shift+Enter."
   ]
  },
  {
   "cell_type": "markdown",
   "metadata": {},
   "source": [
    "- [x]  Jupyter Notebook открыт\n",
    "- [x]  Весь код выполняется без ошибок\n",
    "- [x]  Ячейки с кодом расположены в порядке исполнения\n",
    "- [x]  Выполнен шаг 1: данные подготовлены\n",
    "- [x]  Выполнен шаг 2: модели обучены и проверены\n",
    "    - [x]  Данные корректно разбиты на обучающую и валидационную выборки\n",
    "    - [x]  Модели обучены, предсказания сделаны\n",
    "    - [x]  Предсказания и правильные ответы на валидационной выборке сохранены\n",
    "    - [x]  На экране напечатаны результаты\n",
    "    - [x]  Сделаны выводы\n",
    "- [x]  Выполнен шаг 3: проведена подготовка к расчёту прибыли\n",
    "    - [x]  Для всех ключевых значений созданы константы Python\n",
    "    - [x]  Посчитано минимальное среднее количество продукта в месторождениях региона, достаточное для разработки\n",
    "    - [x]  По предыдущему пункту сделаны выводы\n",
    "    - [x]  Написана функция расчёта прибыли\n",
    "- [x]  Выполнен шаг 4: посчитаны риски и прибыль\n",
    "    - [x]  Проведена процедура *Bootstrap*\n",
    "    - [x]  Все параметры бутстрепа соответствуют условию\n",
    "    - [x]  Найдены все нужные величины\n",
    "    - [x]  Предложен регион для разработки месторождения\n",
    "    - [x]  Выбор региона обоснован"
   ]
  },
  {
   "cell_type": "code",
   "execution_count": null,
   "metadata": {},
   "outputs": [],
   "source": []
  }
 ],
 "metadata": {
  "ExecuteTimeLog": [
   {
    "duration": 91,
    "start_time": "2023-03-20T12:36:07.479Z"
   },
   {
    "duration": 457,
    "start_time": "2023-03-20T12:36:39.741Z"
   },
   {
    "duration": 1204,
    "start_time": "2023-03-20T12:36:41.614Z"
   },
   {
    "duration": 558,
    "start_time": "2023-03-20T12:38:27.728Z"
   },
   {
    "duration": 156,
    "start_time": "2023-03-20T12:39:28.483Z"
   },
   {
    "duration": 479,
    "start_time": "2023-03-20T12:39:47.482Z"
   },
   {
    "duration": 515,
    "start_time": "2023-03-20T12:39:47.963Z"
   },
   {
    "duration": 305,
    "start_time": "2023-03-20T12:39:48.479Z"
   },
   {
    "duration": 175,
    "start_time": "2023-03-20T12:45:04.821Z"
   },
   {
    "duration": 115,
    "start_time": "2023-03-20T12:45:24.742Z"
   },
   {
    "duration": 167,
    "start_time": "2023-03-20T12:45:53.319Z"
   },
   {
    "duration": 621,
    "start_time": "2023-03-20T13:11:47.614Z"
   },
   {
    "duration": 162,
    "start_time": "2023-03-20T13:11:50.583Z"
   },
   {
    "duration": 124,
    "start_time": "2023-03-20T13:11:55.457Z"
   },
   {
    "duration": 155,
    "start_time": "2023-03-20T13:11:59.661Z"
   },
   {
    "duration": 122,
    "start_time": "2023-03-20T13:12:55.821Z"
   },
   {
    "duration": 149,
    "start_time": "2023-03-20T13:13:05.141Z"
   },
   {
    "duration": 128,
    "start_time": "2023-03-20T13:13:19.621Z"
   },
   {
    "duration": 133,
    "start_time": "2023-03-20T13:19:07.951Z"
   },
   {
    "duration": 1130,
    "start_time": "2023-03-20T13:19:39.737Z"
   },
   {
    "duration": 1641,
    "start_time": "2023-03-20T13:19:44.291Z"
   },
   {
    "duration": 544,
    "start_time": "2023-03-20T13:19:45.942Z"
   },
   {
    "duration": 176,
    "start_time": "2023-03-20T13:19:46.491Z"
   },
   {
    "duration": 121,
    "start_time": "2023-03-20T13:19:46.669Z"
   },
   {
    "duration": 146,
    "start_time": "2023-03-20T13:19:46.793Z"
   },
   {
    "duration": 54,
    "start_time": "2023-03-20T13:19:46.952Z"
   },
   {
    "duration": 41,
    "start_time": "2023-03-20T13:22:36.863Z"
   },
   {
    "duration": 49,
    "start_time": "2023-03-20T13:23:48.103Z"
   },
   {
    "duration": 42,
    "start_time": "2023-03-20T13:27:58.543Z"
   },
   {
    "duration": 174,
    "start_time": "2023-03-20T13:43:52.865Z"
   },
   {
    "duration": 19,
    "start_time": "2023-03-20T13:46:25.570Z"
   },
   {
    "duration": 1441,
    "start_time": "2023-03-20T13:46:31.930Z"
   },
   {
    "duration": 615,
    "start_time": "2023-03-20T13:46:33.374Z"
   },
   {
    "duration": 131,
    "start_time": "2023-03-20T13:46:33.996Z"
   },
   {
    "duration": 123,
    "start_time": "2023-03-20T13:46:34.134Z"
   },
   {
    "duration": 101,
    "start_time": "2023-03-20T13:46:34.263Z"
   },
   {
    "duration": 18,
    "start_time": "2023-03-20T13:46:34.366Z"
   },
   {
    "duration": 90,
    "start_time": "2023-03-20T13:46:34.390Z"
   },
   {
    "duration": 78,
    "start_time": "2023-03-20T13:46:34.482Z"
   },
   {
    "duration": 38,
    "start_time": "2023-03-20T13:46:34.569Z"
   },
   {
    "duration": 65,
    "start_time": "2023-03-20T13:46:34.613Z"
   },
   {
    "duration": 1126,
    "start_time": "2023-03-20T21:25:00.965Z"
   },
   {
    "duration": 1124,
    "start_time": "2023-03-20T21:25:05.260Z"
   },
   {
    "duration": 1618,
    "start_time": "2023-03-20T21:25:06.386Z"
   },
   {
    "duration": 91,
    "start_time": "2023-03-20T21:25:08.006Z"
   },
   {
    "duration": 60,
    "start_time": "2023-03-20T21:25:08.099Z"
   },
   {
    "duration": 88,
    "start_time": "2023-03-20T21:25:08.161Z"
   },
   {
    "duration": 16,
    "start_time": "2023-03-20T21:25:08.251Z"
   },
   {
    "duration": 36,
    "start_time": "2023-03-20T21:25:08.268Z"
   },
   {
    "duration": 18,
    "start_time": "2023-03-20T21:25:08.305Z"
   },
   {
    "duration": 16,
    "start_time": "2023-03-20T21:25:08.325Z"
   },
   {
    "duration": 225,
    "start_time": "2023-03-20T21:25:08.343Z"
   },
   {
    "duration": 167,
    "start_time": "2023-03-20T21:25:27.432Z"
   },
   {
    "duration": 1098,
    "start_time": "2023-03-20T21:30:08.732Z"
   },
   {
    "duration": 397,
    "start_time": "2023-03-20T21:30:09.833Z"
   },
   {
    "duration": 98,
    "start_time": "2023-03-20T21:30:10.231Z"
   },
   {
    "duration": 77,
    "start_time": "2023-03-20T21:30:10.331Z"
   },
   {
    "duration": 81,
    "start_time": "2023-03-20T21:30:10.410Z"
   },
   {
    "duration": 15,
    "start_time": "2023-03-20T21:30:10.493Z"
   },
   {
    "duration": 20,
    "start_time": "2023-03-20T21:30:10.510Z"
   },
   {
    "duration": 26,
    "start_time": "2023-03-20T21:30:10.532Z"
   },
   {
    "duration": 36,
    "start_time": "2023-03-20T21:30:10.560Z"
   },
   {
    "duration": 274,
    "start_time": "2023-03-20T21:30:10.598Z"
   },
   {
    "duration": 1161,
    "start_time": "2023-03-20T21:37:59.382Z"
   },
   {
    "duration": 395,
    "start_time": "2023-03-20T21:38:00.545Z"
   },
   {
    "duration": 126,
    "start_time": "2023-03-20T21:38:00.942Z"
   },
   {
    "duration": 91,
    "start_time": "2023-03-20T21:38:01.070Z"
   },
   {
    "duration": 93,
    "start_time": "2023-03-20T21:38:01.163Z"
   },
   {
    "duration": 15,
    "start_time": "2023-03-20T21:38:01.258Z"
   },
   {
    "duration": 41,
    "start_time": "2023-03-20T21:38:01.288Z"
   },
   {
    "duration": 26,
    "start_time": "2023-03-20T21:38:01.331Z"
   },
   {
    "duration": 39,
    "start_time": "2023-03-20T21:38:01.358Z"
   },
   {
    "duration": 275,
    "start_time": "2023-03-20T21:38:01.399Z"
   },
   {
    "duration": 63,
    "start_time": "2023-03-20T21:47:22.831Z"
   },
   {
    "duration": 13,
    "start_time": "2023-03-20T21:47:40.457Z"
   },
   {
    "duration": 72,
    "start_time": "2023-03-20T21:47:48.523Z"
   },
   {
    "duration": 16,
    "start_time": "2023-03-20T21:50:24.973Z"
   },
   {
    "duration": 15,
    "start_time": "2023-03-20T21:50:43.437Z"
   },
   {
    "duration": 14,
    "start_time": "2023-03-20T21:51:16.719Z"
   },
   {
    "duration": 13,
    "start_time": "2023-03-20T21:52:03.973Z"
   },
   {
    "duration": 35,
    "start_time": "2023-03-20T21:57:34.155Z"
   },
   {
    "duration": 14,
    "start_time": "2023-03-20T21:57:38.242Z"
   },
   {
    "duration": 27,
    "start_time": "2023-03-20T21:57:53.667Z"
   },
   {
    "duration": 18,
    "start_time": "2023-03-20T21:58:16.116Z"
   },
   {
    "duration": 17,
    "start_time": "2023-03-20T21:58:29.341Z"
   },
   {
    "duration": 3,
    "start_time": "2023-03-20T22:17:00.452Z"
   },
   {
    "duration": 1061,
    "start_time": "2023-03-21T05:27:55.919Z"
   },
   {
    "duration": 624,
    "start_time": "2023-03-21T05:27:56.982Z"
   },
   {
    "duration": 82,
    "start_time": "2023-03-21T05:27:57.608Z"
   },
   {
    "duration": 78,
    "start_time": "2023-03-21T05:27:57.692Z"
   },
   {
    "duration": 77,
    "start_time": "2023-03-21T05:27:57.772Z"
   },
   {
    "duration": 33,
    "start_time": "2023-03-21T05:27:57.851Z"
   },
   {
    "duration": 18,
    "start_time": "2023-03-21T05:27:57.886Z"
   },
   {
    "duration": 21,
    "start_time": "2023-03-21T05:27:57.906Z"
   },
   {
    "duration": 44,
    "start_time": "2023-03-21T05:27:57.930Z"
   },
   {
    "duration": 21,
    "start_time": "2023-03-21T05:27:57.976Z"
   },
   {
    "duration": 108,
    "start_time": "2023-03-21T05:27:58.072Z"
   },
   {
    "duration": 191,
    "start_time": "2023-03-21T05:27:58.185Z"
   },
   {
    "duration": 94,
    "start_time": "2023-03-21T05:27:58.378Z"
   },
   {
    "duration": 6,
    "start_time": "2023-03-21T06:39:42.419Z"
   },
   {
    "duration": 4,
    "start_time": "2023-03-21T09:59:40.551Z"
   },
   {
    "duration": 1099,
    "start_time": "2023-03-21T12:56:31.354Z"
   },
   {
    "duration": 631,
    "start_time": "2023-03-21T12:56:32.455Z"
   },
   {
    "duration": 75,
    "start_time": "2023-03-21T12:56:33.087Z"
   },
   {
    "duration": 76,
    "start_time": "2023-03-21T12:56:33.164Z"
   },
   {
    "duration": 99,
    "start_time": "2023-03-21T12:56:33.242Z"
   },
   {
    "duration": 16,
    "start_time": "2023-03-21T12:56:33.360Z"
   },
   {
    "duration": 18,
    "start_time": "2023-03-21T12:56:33.377Z"
   },
   {
    "duration": 19,
    "start_time": "2023-03-21T12:56:33.397Z"
   },
   {
    "duration": 17,
    "start_time": "2023-03-21T12:56:33.418Z"
   },
   {
    "duration": 99,
    "start_time": "2023-03-21T12:56:33.462Z"
   },
   {
    "duration": 111,
    "start_time": "2023-03-21T12:56:33.562Z"
   },
   {
    "duration": 87,
    "start_time": "2023-03-21T12:56:33.674Z"
   },
   {
    "duration": 5,
    "start_time": "2023-03-21T12:56:33.762Z"
   },
   {
    "duration": 184,
    "start_time": "2023-03-21T12:56:33.768Z"
   },
   {
    "duration": 1088,
    "start_time": "2023-03-21T12:57:30.181Z"
   },
   {
    "duration": 342,
    "start_time": "2023-03-21T12:57:31.271Z"
   },
   {
    "duration": 79,
    "start_time": "2023-03-21T12:57:31.615Z"
   },
   {
    "duration": 100,
    "start_time": "2023-03-21T12:57:31.696Z"
   },
   {
    "duration": 101,
    "start_time": "2023-03-21T12:57:31.798Z"
   },
   {
    "duration": 15,
    "start_time": "2023-03-21T12:57:31.901Z"
   },
   {
    "duration": 35,
    "start_time": "2023-03-21T12:57:31.918Z"
   },
   {
    "duration": 19,
    "start_time": "2023-03-21T12:57:31.955Z"
   },
   {
    "duration": 50,
    "start_time": "2023-03-21T12:57:31.977Z"
   },
   {
    "duration": 41,
    "start_time": "2023-03-21T12:57:32.029Z"
   },
   {
    "duration": 134,
    "start_time": "2023-03-21T12:57:32.072Z"
   },
   {
    "duration": 182,
    "start_time": "2023-03-21T12:57:32.208Z"
   },
   {
    "duration": 178,
    "start_time": "2023-03-21T12:57:32.391Z"
   },
   {
    "duration": 293,
    "start_time": "2023-03-21T12:57:32.570Z"
   },
   {
    "duration": 70,
    "start_time": "2023-03-21T12:58:56.691Z"
   },
   {
    "duration": 174,
    "start_time": "2023-03-21T12:59:56.292Z"
   },
   {
    "duration": 184,
    "start_time": "2023-03-21T13:15:44.182Z"
   },
   {
    "duration": 12,
    "start_time": "2023-03-21T13:37:02.087Z"
   },
   {
    "duration": 658,
    "start_time": "2023-03-21T13:37:37.172Z"
   },
   {
    "duration": 682,
    "start_time": "2023-03-21T13:45:01.227Z"
   },
   {
    "duration": 10,
    "start_time": "2023-03-21T14:01:36.832Z"
   },
   {
    "duration": 7,
    "start_time": "2023-03-21T14:01:45.729Z"
   },
   {
    "duration": 7,
    "start_time": "2023-03-21T14:02:06.419Z"
   },
   {
    "duration": 8,
    "start_time": "2023-03-21T14:02:45.673Z"
   },
   {
    "duration": 6,
    "start_time": "2023-03-21T14:04:38.491Z"
   },
   {
    "duration": 5,
    "start_time": "2023-03-21T15:13:22.306Z"
   },
   {
    "duration": 988,
    "start_time": "2023-03-21T15:13:32.579Z"
   },
   {
    "duration": 328,
    "start_time": "2023-03-21T15:13:33.569Z"
   },
   {
    "duration": 89,
    "start_time": "2023-03-21T15:13:33.899Z"
   },
   {
    "duration": 71,
    "start_time": "2023-03-21T15:13:33.989Z"
   },
   {
    "duration": 67,
    "start_time": "2023-03-21T15:13:34.063Z"
   },
   {
    "duration": 14,
    "start_time": "2023-03-21T15:13:34.131Z"
   },
   {
    "duration": 17,
    "start_time": "2023-03-21T15:13:34.163Z"
   },
   {
    "duration": 19,
    "start_time": "2023-03-21T15:13:34.181Z"
   },
   {
    "duration": 13,
    "start_time": "2023-03-21T15:13:34.201Z"
   },
   {
    "duration": 55,
    "start_time": "2023-03-21T15:13:34.215Z"
   },
   {
    "duration": 110,
    "start_time": "2023-03-21T15:13:34.272Z"
   },
   {
    "duration": 205,
    "start_time": "2023-03-21T15:13:34.384Z"
   },
   {
    "duration": 193,
    "start_time": "2023-03-21T15:13:34.590Z"
   },
   {
    "duration": 105,
    "start_time": "2023-03-21T15:13:34.785Z"
   },
   {
    "duration": 649,
    "start_time": "2023-03-21T15:14:55.095Z"
   },
   {
    "duration": 615,
    "start_time": "2023-03-21T15:15:38.972Z"
   },
   {
    "duration": 628,
    "start_time": "2023-03-21T15:16:07.612Z"
   },
   {
    "duration": 1192,
    "start_time": "2023-03-21T19:16:54.512Z"
   },
   {
    "duration": 629,
    "start_time": "2023-03-21T19:16:55.707Z"
   },
   {
    "duration": 79,
    "start_time": "2023-03-21T19:16:56.338Z"
   },
   {
    "duration": 97,
    "start_time": "2023-03-21T19:16:56.419Z"
   },
   {
    "duration": 99,
    "start_time": "2023-03-21T19:16:56.520Z"
   },
   {
    "duration": 19,
    "start_time": "2023-03-21T19:16:56.621Z"
   },
   {
    "duration": 38,
    "start_time": "2023-03-21T19:16:56.642Z"
   },
   {
    "duration": 27,
    "start_time": "2023-03-21T19:16:56.682Z"
   },
   {
    "duration": 40,
    "start_time": "2023-03-21T19:16:56.712Z"
   },
   {
    "duration": 19,
    "start_time": "2023-03-21T19:16:56.754Z"
   },
   {
    "duration": 104,
    "start_time": "2023-03-21T19:16:56.813Z"
   },
   {
    "duration": 195,
    "start_time": "2023-03-21T19:16:56.919Z"
   },
   {
    "duration": 227,
    "start_time": "2023-03-21T19:16:57.117Z"
   },
   {
    "duration": 0,
    "start_time": "2023-03-21T19:16:57.346Z"
   },
   {
    "duration": 4,
    "start_time": "2023-03-21T19:17:23.165Z"
   },
   {
    "duration": 11,
    "start_time": "2023-03-21T19:17:26.850Z"
   },
   {
    "duration": 924,
    "start_time": "2023-03-21T19:17:41.283Z"
   },
   {
    "duration": 865,
    "start_time": "2023-03-21T19:22:09.137Z"
   },
   {
    "duration": 867,
    "start_time": "2023-03-21T19:23:54.635Z"
   },
   {
    "duration": 1424,
    "start_time": "2023-03-21T19:42:16.114Z"
   },
   {
    "duration": 1378,
    "start_time": "2023-03-21T19:50:08.678Z"
   },
   {
    "duration": 1447,
    "start_time": "2023-03-21T19:50:37.281Z"
   },
   {
    "duration": 1420,
    "start_time": "2023-03-21T19:51:01.831Z"
   },
   {
    "duration": 1422,
    "start_time": "2023-03-21T19:52:02.537Z"
   },
   {
    "duration": 1463,
    "start_time": "2023-03-21T19:52:17.436Z"
   },
   {
    "duration": 1451,
    "start_time": "2023-03-21T19:52:30.254Z"
   },
   {
    "duration": 1411,
    "start_time": "2023-03-21T19:53:33.282Z"
   },
   {
    "duration": 1443,
    "start_time": "2023-03-21T19:54:11.050Z"
   },
   {
    "duration": 5,
    "start_time": "2023-03-21T21:03:02.308Z"
   },
   {
    "duration": 5,
    "start_time": "2023-03-21T21:03:09.666Z"
   },
   {
    "duration": 1001,
    "start_time": "2023-03-22T21:27:37.544Z"
   },
   {
    "duration": 2046,
    "start_time": "2023-03-22T21:27:38.547Z"
   },
   {
    "duration": 71,
    "start_time": "2023-03-22T21:27:40.595Z"
   },
   {
    "duration": 53,
    "start_time": "2023-03-22T21:27:40.668Z"
   },
   {
    "duration": 78,
    "start_time": "2023-03-22T21:27:40.722Z"
   },
   {
    "duration": 16,
    "start_time": "2023-03-22T21:27:40.802Z"
   },
   {
    "duration": 31,
    "start_time": "2023-03-22T21:27:40.819Z"
   },
   {
    "duration": 29,
    "start_time": "2023-03-22T21:27:40.852Z"
   },
   {
    "duration": 16,
    "start_time": "2023-03-22T21:27:40.883Z"
   },
   {
    "duration": 69,
    "start_time": "2023-03-22T21:27:40.901Z"
   },
   {
    "duration": 105,
    "start_time": "2023-03-22T21:27:40.972Z"
   },
   {
    "duration": 190,
    "start_time": "2023-03-22T21:27:41.079Z"
   },
   {
    "duration": 8,
    "start_time": "2023-03-22T21:27:41.271Z"
   },
   {
    "duration": 1333,
    "start_time": "2023-03-22T21:27:41.281Z"
   },
   {
    "duration": 1161,
    "start_time": "2023-03-22T21:27:42.616Z"
   },
   {
    "duration": 1126,
    "start_time": "2023-03-22T21:27:43.779Z"
   },
   {
    "duration": 36,
    "start_time": "2023-03-22T21:36:32.558Z"
   },
   {
    "duration": 121,
    "start_time": "2023-03-22T21:37:56.725Z"
   },
   {
    "duration": 1004,
    "start_time": "2023-03-22T21:38:03.832Z"
   },
   {
    "duration": 331,
    "start_time": "2023-03-22T21:38:04.838Z"
   },
   {
    "duration": 64,
    "start_time": "2023-03-22T21:38:05.171Z"
   },
   {
    "duration": 65,
    "start_time": "2023-03-22T21:38:05.237Z"
   },
   {
    "duration": 66,
    "start_time": "2023-03-22T21:38:05.303Z"
   },
   {
    "duration": 15,
    "start_time": "2023-03-22T21:38:05.370Z"
   },
   {
    "duration": 31,
    "start_time": "2023-03-22T21:38:05.386Z"
   },
   {
    "duration": 13,
    "start_time": "2023-03-22T21:38:05.418Z"
   },
   {
    "duration": 43,
    "start_time": "2023-03-22T21:38:05.433Z"
   },
   {
    "duration": 19,
    "start_time": "2023-03-22T21:38:05.479Z"
   },
   {
    "duration": 81,
    "start_time": "2023-03-22T21:38:05.501Z"
   },
   {
    "duration": 16,
    "start_time": "2023-03-22T21:38:05.669Z"
   },
   {
    "duration": 89,
    "start_time": "2023-03-22T21:38:05.781Z"
   },
   {
    "duration": 1155,
    "start_time": "2023-03-22T21:38:05.871Z"
   },
   {
    "duration": 1212,
    "start_time": "2023-03-22T21:38:07.028Z"
   },
   {
    "duration": 1399,
    "start_time": "2023-03-22T21:38:08.242Z"
   },
   {
    "duration": 1027,
    "start_time": "2023-03-22T21:39:00.329Z"
   },
   {
    "duration": 339,
    "start_time": "2023-03-22T21:39:01.358Z"
   },
   {
    "duration": 85,
    "start_time": "2023-03-22T21:39:01.698Z"
   },
   {
    "duration": 83,
    "start_time": "2023-03-22T21:39:01.785Z"
   },
   {
    "duration": 71,
    "start_time": "2023-03-22T21:39:01.870Z"
   },
   {
    "duration": 30,
    "start_time": "2023-03-22T21:39:01.943Z"
   },
   {
    "duration": 55,
    "start_time": "2023-03-22T21:39:01.975Z"
   },
   {
    "duration": 14,
    "start_time": "2023-03-22T21:39:02.031Z"
   },
   {
    "duration": 39,
    "start_time": "2023-03-22T21:39:02.046Z"
   },
   {
    "duration": 81,
    "start_time": "2023-03-22T21:39:02.088Z"
   },
   {
    "duration": 104,
    "start_time": "2023-03-22T21:39:02.173Z"
   },
   {
    "duration": 206,
    "start_time": "2023-03-22T21:39:02.279Z"
   },
   {
    "duration": 83,
    "start_time": "2023-03-22T21:39:02.487Z"
   },
   {
    "duration": 1288,
    "start_time": "2023-03-22T21:39:02.573Z"
   },
   {
    "duration": 1190,
    "start_time": "2023-03-22T21:39:03.863Z"
   },
   {
    "duration": 1203,
    "start_time": "2023-03-22T21:39:05.054Z"
   },
   {
    "duration": 27,
    "start_time": "2023-03-22T21:40:25.624Z"
   },
   {
    "duration": 25,
    "start_time": "2023-03-22T21:42:07.679Z"
   },
   {
    "duration": 964,
    "start_time": "2023-03-22T21:42:12.417Z"
   },
   {
    "duration": 324,
    "start_time": "2023-03-22T21:42:13.383Z"
   },
   {
    "duration": 73,
    "start_time": "2023-03-22T21:42:13.709Z"
   },
   {
    "duration": 65,
    "start_time": "2023-03-22T21:42:13.784Z"
   },
   {
    "duration": 66,
    "start_time": "2023-03-22T21:42:13.868Z"
   },
   {
    "duration": 16,
    "start_time": "2023-03-22T21:42:13.935Z"
   },
   {
    "duration": 32,
    "start_time": "2023-03-22T21:42:13.968Z"
   },
   {
    "duration": 31,
    "start_time": "2023-03-22T21:42:14.002Z"
   },
   {
    "duration": 57,
    "start_time": "2023-03-22T21:42:14.035Z"
   },
   {
    "duration": 77,
    "start_time": "2023-03-22T21:42:14.094Z"
   },
   {
    "duration": 106,
    "start_time": "2023-03-22T21:42:14.173Z"
   },
   {
    "duration": 191,
    "start_time": "2023-03-22T21:42:14.281Z"
   },
   {
    "duration": 96,
    "start_time": "2023-03-22T21:42:14.474Z"
   },
   {
    "duration": 1410,
    "start_time": "2023-03-22T21:42:14.573Z"
   },
   {
    "duration": 1153,
    "start_time": "2023-03-22T21:42:15.985Z"
   },
   {
    "duration": 1173,
    "start_time": "2023-03-22T21:42:17.140Z"
   }
  ],
  "kernelspec": {
   "display_name": "Python 3 (ipykernel)",
   "language": "python",
   "name": "python3"
  },
  "language_info": {
   "codemirror_mode": {
    "name": "ipython",
    "version": 3
   },
   "file_extension": ".py",
   "mimetype": "text/x-python",
   "name": "python",
   "nbconvert_exporter": "python",
   "pygments_lexer": "ipython3",
   "version": "3.13.5"
  },
  "toc": {
   "base_numbering": 1,
   "nav_menu": {},
   "number_sections": true,
   "sideBar": true,
   "skip_h1_title": true,
   "title_cell": "Table of Contents",
   "title_sidebar": "Contents",
   "toc_cell": false,
   "toc_position": {},
   "toc_section_display": true,
   "toc_window_display": false
  }
 },
 "nbformat": 4,
 "nbformat_minor": 4
}
